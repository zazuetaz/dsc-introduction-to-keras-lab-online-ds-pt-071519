{
 "cells": [
  {
   "cell_type": "markdown",
   "metadata": {},
   "source": [
    "# Keras - Lab\n",
    "\n",
    "## Introduction\n",
    "\n",
    "In this lab you'll once again build a neural network, but this time you will be using Keras to do a lot of the heavy lifting.\n",
    "\n",
    "\n",
    "## Objectives\n",
    "\n",
    "You will be able to:\n",
    "\n",
    "- Build a neural network using Keras \n",
    "- Evaluate performance of a neural network using Keras "
   ]
  },
  {
   "cell_type": "markdown",
   "metadata": {},
   "source": [
    "## Required Packages\n",
    "\n",
    "We'll start by importing all of the required packages and classes."
   ]
  },
  {
   "cell_type": "code",
   "execution_count": 1,
   "metadata": {},
   "outputs": [
    {
     "name": "stderr",
     "output_type": "stream",
     "text": [
      "Using TensorFlow backend.\n"
     ]
    }
   ],
   "source": [
    "import matplotlib.pyplot as plt\n",
    "import pandas as pd\n",
    "import numpy as np\n",
    "import random\n",
    "from sklearn.model_selection import train_test_split\n",
    "from keras.utils.np_utils import to_categorical\n",
    "from sklearn import preprocessing\n",
    "from keras.preprocessing.text import Tokenizer\n",
    "from keras import models\n",
    "from keras import layers\n",
    "from keras import optimizers"
   ]
  },
  {
   "cell_type": "markdown",
   "metadata": {},
   "source": [
    "## Load the data\n",
    "\n",
    "In this lab you will be classifying bank complaints available in the `'Bank_complaints.csv'` file. "
   ]
  },
  {
   "cell_type": "code",
   "execution_count": 2,
   "metadata": {},
   "outputs": [
    {
     "name": "stdout",
     "output_type": "stream",
     "text": [
      "<class 'pandas.core.frame.DataFrame'>\n",
      "RangeIndex: 60000 entries, 0 to 59999\n",
      "Data columns (total 2 columns):\n",
      "Product                         60000 non-null object\n",
      "Consumer complaint narrative    60000 non-null object\n",
      "dtypes: object(2)\n",
      "memory usage: 937.6+ KB\n",
      "None\n"
     ]
    },
    {
     "data": {
      "text/html": [
       "<div>\n",
       "<style scoped>\n",
       "    .dataframe tbody tr th:only-of-type {\n",
       "        vertical-align: middle;\n",
       "    }\n",
       "\n",
       "    .dataframe tbody tr th {\n",
       "        vertical-align: top;\n",
       "    }\n",
       "\n",
       "    .dataframe thead th {\n",
       "        text-align: right;\n",
       "    }\n",
       "</style>\n",
       "<table border=\"1\" class=\"dataframe\">\n",
       "  <thead>\n",
       "    <tr style=\"text-align: right;\">\n",
       "      <th></th>\n",
       "      <th>Product</th>\n",
       "      <th>Consumer complaint narrative</th>\n",
       "    </tr>\n",
       "  </thead>\n",
       "  <tbody>\n",
       "    <tr>\n",
       "      <th>0</th>\n",
       "      <td>Student loan</td>\n",
       "      <td>In XX/XX/XXXX I filled out the Fedlaon applica...</td>\n",
       "    </tr>\n",
       "    <tr>\n",
       "      <th>1</th>\n",
       "      <td>Student loan</td>\n",
       "      <td>I am being contacted by a debt collector for p...</td>\n",
       "    </tr>\n",
       "    <tr>\n",
       "      <th>2</th>\n",
       "      <td>Student loan</td>\n",
       "      <td>I cosigned XXXX student loans at SallieMae for...</td>\n",
       "    </tr>\n",
       "    <tr>\n",
       "      <th>3</th>\n",
       "      <td>Student loan</td>\n",
       "      <td>Navient has sytematically and illegally failed...</td>\n",
       "    </tr>\n",
       "    <tr>\n",
       "      <th>4</th>\n",
       "      <td>Student loan</td>\n",
       "      <td>My wife became eligible for XXXX Loan Forgiven...</td>\n",
       "    </tr>\n",
       "  </tbody>\n",
       "</table>\n",
       "</div>"
      ],
      "text/plain": [
       "        Product                       Consumer complaint narrative\n",
       "0  Student loan  In XX/XX/XXXX I filled out the Fedlaon applica...\n",
       "1  Student loan  I am being contacted by a debt collector for p...\n",
       "2  Student loan  I cosigned XXXX student loans at SallieMae for...\n",
       "3  Student loan  Navient has sytematically and illegally failed...\n",
       "4  Student loan  My wife became eligible for XXXX Loan Forgiven..."
      ]
     },
     "execution_count": 2,
     "metadata": {},
     "output_type": "execute_result"
    }
   ],
   "source": [
    "# Import data\n",
    "df = pd.read_csv('Bank_complaints.csv')\n",
    "\n",
    "# Inspect data\n",
    "print(df.info())\n",
    "df.head()"
   ]
  },
  {
   "cell_type": "markdown",
   "metadata": {},
   "source": [
    "As mentioned earlier, your task is to categorize banking complaints into various predefined categories. Preview what these categories are and what percent of the complaints each accounts for. "
   ]
  },
  {
   "cell_type": "code",
   "execution_count": 4,
   "metadata": {},
   "outputs": [
    {
     "data": {
      "text/plain": [
       "Student loan                   0.190067\n",
       "Credit card                    0.159000\n",
       "Consumer Loan                  0.157900\n",
       "Mortgage                       0.138867\n",
       "Bank account or service        0.138483\n",
       "Credit reporting               0.114400\n",
       "Checking or savings account    0.101283\n",
       "Name: Product, dtype: float64"
      ]
     },
     "execution_count": 4,
     "metadata": {},
     "output_type": "execute_result"
    }
   ],
   "source": [
    "# Your code here\n",
    "df.Product.value_counts(normalize=True)"
   ]
  },
  {
   "cell_type": "markdown",
   "metadata": {},
   "source": [
    "## Preprocessing\n",
    "\n",
    "Before we build our neural network, we need to do several preprocessing steps. First, we will create word vector counts (a bag of words type representation) of our complaints text. Next, we will change the category labels to integers. Finally, we will perform our usual train-test split before building and training our neural network using Keras. With that, let's start munging our data! \n",
    "\n",
    "## One-hot encoding of the complaints\n",
    "\n",
    "Our first step again is to transform our textual data into a numerical representation. As we saw in some of our previous lessons on NLP, there are many ways to do this. Here, we'll use the `Tokenizer()` class from the `preprocessing.text` sub-module of the Keras package.   \n",
    "\n",
    "As with our previous work using NLTK, this will transform our text complaints into word vectors. (Note that the method of creating a vector is different from our previous work with NLTK; as you'll see, word order will be preserved as opposed to a bag of words representation). In the below code, we'll only keep the 2,000 most common words and use one-hot encoding. \n",
    "\n"
   ]
  },
  {
   "cell_type": "code",
   "execution_count": 5,
   "metadata": {},
   "outputs": [],
   "source": [
    "# As a quick preliminary, briefly review the docstring for keras.preprocessing.text.Tokenizer\n",
    "Tokenizer?"
   ]
  },
  {
   "cell_type": "code",
   "execution_count": 6,
   "metadata": {},
   "outputs": [
    {
     "name": "stdout",
     "output_type": "stream",
     "text": [
      "sequences type: <class 'list'>\n",
      "one_hot_results type: <class 'numpy.ndarray'>\n",
      "Found 50334 unique tokens.\n",
      "Dimensions of our coded results: (60000, 2000)\n"
     ]
    }
   ],
   "source": [
    "# ⏰ This cell may take about thirty seconds to run\n",
    "\n",
    "# Raw text complaints\n",
    "complaints = df['Consumer complaint narrative'] \n",
    "\n",
    "# Initialize a tokenizer \n",
    "tokenizer = Tokenizer(num_words=2000) \n",
    "\n",
    "# Fit it to the complaints\n",
    "tokenizer.fit_on_texts(complaints) \n",
    "\n",
    "# Generate sequences\n",
    "sequences = tokenizer.texts_to_sequences(complaints) \n",
    "print('sequences type:', type(sequences))\n",
    "\n",
    "# Similar to sequences, but returns a numpy array\n",
    "one_hot_results= tokenizer.texts_to_matrix(complaints, mode='binary') \n",
    "print('one_hot_results type:', type(one_hot_results))\n",
    "\n",
    "# Useful if we wish to decode (more explanation below)\n",
    "word_index = tokenizer.word_index \n",
    "\n",
    "# Tokens are the number of unique words across the corpus\n",
    "print('Found %s unique tokens.' % len(word_index)) \n",
    "\n",
    "# Our coded data\n",
    "print('Dimensions of our coded results:', np.shape(one_hot_results)) "
   ]
  },
  {
   "cell_type": "code",
   "execution_count": 7,
   "metadata": {},
   "outputs": [
    {
     "data": {
      "text/plain": [
       "array([[0., 1., 1., ..., 0., 0., 0.],\n",
       "       [0., 1., 1., ..., 0., 0., 0.],\n",
       "       [0., 1., 1., ..., 0., 0., 0.],\n",
       "       ...,\n",
       "       [0., 1., 1., ..., 0., 0., 0.],\n",
       "       [0., 1., 1., ..., 0., 0., 0.],\n",
       "       [0., 1., 1., ..., 0., 0., 0.]])"
      ]
     },
     "execution_count": 7,
     "metadata": {},
     "output_type": "execute_result"
    }
   ],
   "source": [
    "one_hot_results"
   ]
  },
  {
   "cell_type": "markdown",
   "metadata": {},
   "source": [
    "## Decoding Word Vectors \n",
    "\n",
    "As a note, you can also decode these vectorized representations of the reviews. The `word_index` variable, defined above, stores the mapping from the label number to the actual word. Somewhat tediously, we can turn this dictionary inside out and map it back to our word vectors, giving us roughly the original complaint back. (As you'll see, the text won't be identical as we limited ourselves to top 2000 words.)\n",
    "\n",
    "## Python Review / Mini Challenge\n",
    "\n",
    "While a bit tangential to our main topic of interest, we need to reverse our current dictionary `word_index` which maps words from our corpus to integers. In decoding our `one_hot_results`, we will need to create a dictionary of these integers to the original words. Below, take the `word_index` dictionary object and change the orientation so that the values are keys and the keys values. In other words, you are transforming something of the form {A:1, B:2, C:3} to {1:A, 2:B, 3:C}. "
   ]
  },
  {
   "cell_type": "code",
   "execution_count": 8,
   "metadata": {},
   "outputs": [],
   "source": [
    "# Your code here\n",
    "reverse_index = dict([(value, key) for (key, value) in word_index.items()])"
   ]
  },
  {
   "cell_type": "markdown",
   "metadata": {},
   "source": [
    "## Back to Decoding Our Word Vectors..."
   ]
  },
  {
   "cell_type": "code",
   "execution_count": 14,
   "metadata": {},
   "outputs": [
    {
     "name": "stdout",
     "output_type": "stream",
     "text": [
      "Original complaint text:\n",
      "Hello, I am a XXXX resident who has multiple XXXX and XXXX student loans with Navient ( formerly with XXXX XXXX ). I have been making extra payments on these loans, in hopes of paying them off early so that I can save more for retirement. In order to pay down my balances as quickly as possible, I have been paying off the loans with the highest interest rates first. \r\n",
      "\r\n",
      "Navient has been misapplying my payments. Each time that I begin making extra payments on XXXX loan, they do apply the extra payment to that loan. But then they advance the due date for the loan that I am paying early, and reapply my regular monthly payment across the remaining loans. They do this in spite of the fact that each time I make an extra payment, I select the option for them NOT to advance my due date. This means that I am paying more interest each month. \r\n",
      "\r\n",
      "When I asked Navient why they were misapplying my payments, they said it was because my loans are in \" groups. '' They said they could ungroup the loans, but given my past dealings with them I am concerned there will be consequences to doing this that they are not disclosing. I do not think Navient should be able to use this \" grouping '' practice to end-run around the requirement that they fully apply extra payments early. \r\n",
      "\r\n",
      "I have attached an example. If you look at this payment history, you can see that as soon as I began making extra payments on this loan, Navient stopped deducting my regular payments on the loan. If you look at the statements for other loans in this group ( most of which are at a lower interest rate ), you would see that they 've spread this regular payment across the remaining loans.\n",
      "\n",
      "\n",
      "\n",
      "Decoded review from Tokenizer:\n",
      "hello i am a xxxx who has multiple xxxx and xxxx student loans with navient with xxxx xxxx i have been making extra payments on these loans in of paying them off early so that i can save more for in order to pay down my balances as quickly as possible i have been paying off the loans with the highest interest rates first \r",
      " \r",
      " navient has been my payments each time that i begin making extra payments on xxxx loan they do apply the extra payment to that loan but then they advance the due date for the loan that i am paying early and my regular monthly payment the remaining loans they do this in of the fact that each time i make an extra payment i select the option for them not to advance my due date this means that i am paying more interest each month \r",
      " \r",
      " when i asked navient why they were my payments they said it was because my loans are in '' they said they could the loans but given my past with them i am concerned there will be to doing this that they are not i do not think navient should be able to use this '' practice to end run around the requirement that they fully apply extra payments early \r",
      " \r",
      " i have attached an example if you look at this payment history you can see that as soon as i began making extra payments on this loan navient stopped my regular payments on the loan if you look at the statements for other loans in this group most of which are at a lower interest rate you would see that they 've this regular payment the remaining loans\n"
     ]
    }
   ],
   "source": [
    "comment_idx_to_preview = 19\n",
    "print('Original complaint text:')\n",
    "print(complaints[5])\n",
    "print('\\n\\n')\n",
    "\n",
    "# The reverse_index cell block above must be complete in order for this cell block to successively execute \n",
    "decoded_review = ' '.join([reverse_index.get(i) for i in sequences[5]])\n",
    "print('Decoded review from Tokenizer:')\n",
    "print(decoded_review)"
   ]
  },
  {
   "cell_type": "markdown",
   "metadata": {},
   "source": [
    "## Convert the Products to Numerical Categories\n",
    "\n",
    "On to step two of our preprocessing: converting our descriptive categories into integers."
   ]
  },
  {
   "cell_type": "code",
   "execution_count": 15,
   "metadata": {},
   "outputs": [
    {
     "name": "stdout",
     "output_type": "stream",
     "text": [
      "Original class labels:\n",
      "['Bank account or service', 'Checking or savings account', 'Consumer Loan', 'Credit card', 'Credit reporting', 'Mortgage', 'Student loan']\n",
      "\n",
      "\n",
      "New product labels:\n",
      "[6 6 6 ... 4 4 4]\n",
      "\n",
      "\n",
      "One hot labels; 7 binary columns, one for each of the categories.\n",
      "[[0. 0. 0. ... 0. 0. 1.]\n",
      " [0. 0. 0. ... 0. 0. 1.]\n",
      " [0. 0. 0. ... 0. 0. 1.]\n",
      " ...\n",
      " [0. 0. 0. ... 1. 0. 0.]\n",
      " [0. 0. 0. ... 1. 0. 0.]\n",
      " [0. 0. 0. ... 1. 0. 0.]]\n",
      "\n",
      "\n",
      "One hot labels shape:\n",
      "(60000, 7)\n"
     ]
    }
   ],
   "source": [
    "product = df['Product']\n",
    "\n",
    "# Initialize\n",
    "le = preprocessing.LabelEncoder() \n",
    "le.fit(product)\n",
    "print('Original class labels:')\n",
    "print(list(le.classes_))\n",
    "print('\\n')\n",
    "product_cat = le.transform(product)  \n",
    "\n",
    "# If you wish to retrieve the original descriptive labels post production\n",
    "# list(le.inverse_transform([0, 1, 3, 3, 0, 6, 4])) \n",
    "\n",
    "print('New product labels:')\n",
    "print(product_cat)\n",
    "print('\\n')\n",
    "\n",
    "# Each row will be all zeros except for the category for that observation \n",
    "print('One hot labels; 7 binary columns, one for each of the categories.') \n",
    "product_onehot = to_categorical(product_cat)\n",
    "print(product_onehot)\n",
    "print('\\n')\n",
    "\n",
    "print('One hot labels shape:')\n",
    "print(np.shape(product_onehot))"
   ]
  },
  {
   "cell_type": "markdown",
   "metadata": {},
   "source": [
    "## Train-test split\n",
    "\n",
    "Now for our final preprocessing step: the usual train-test split. "
   ]
  },
  {
   "cell_type": "code",
   "execution_count": 16,
   "metadata": {},
   "outputs": [
    {
     "name": "stdout",
     "output_type": "stream",
     "text": [
      "Test label shape: (1500, 7)\n",
      "Train label shape: (58500, 7)\n",
      "Test shape: (1500, 2000)\n",
      "Train shape: (58500, 2000)\n"
     ]
    }
   ],
   "source": [
    "random.seed(123)\n",
    "test_index = random.sample(range(1,10000), 1500)\n",
    "\n",
    "test = one_hot_results[test_index]\n",
    "train = np.delete(one_hot_results, test_index, 0)\n",
    "\n",
    "label_test = product_onehot[test_index]\n",
    "label_train = np.delete(product_onehot, test_index, 0)\n",
    "\n",
    "print('Test label shape:', np.shape(label_test))\n",
    "print('Train label shape:', np.shape(label_train))\n",
    "print('Test shape:', np.shape(test))\n",
    "print('Train shape:', np.shape(train))"
   ]
  },
  {
   "cell_type": "markdown",
   "metadata": {},
   "source": [
    "## Building the network\n",
    "\n",
    "Let's build a fully connected (Dense) layer network with relu activation in Keras. You can do this using: `Dense(16, activation='relu')`. \n",
    "\n",
    "In this example, use two hidden layers with 50 units in the first layer and 25 in the second, both with a `'relu'` activation function. Because we are dealing with a multiclass problem (classifying the complaints into 7 categories), we use a use a `'softmax'` classifier in order to output 7 class probabilities per case.  "
   ]
  },
  {
   "cell_type": "code",
   "execution_count": 17,
   "metadata": {},
   "outputs": [],
   "source": [
    "# Initialize a sequential model\n",
    "model = models.Sequential()\n",
    "\n",
    "# Two layers with relu activation\n",
    "model.add(layers.Dense(50, activation='relu', input_shape=(2000,)))\n",
    "model.add(layers.Dense(25, activation='relu'))\n",
    "\n",
    "# One layer with softmax activation \n",
    "model.add(layers.Dense(7, activation='softmax'))"
   ]
  },
  {
   "cell_type": "markdown",
   "metadata": {},
   "source": [
    "## Compiling the model\n",
    "\n",
    "Now, compile the model! This time, use `'categorical_crossentropy'` as the loss function and stochastic gradient descent, `'SGD'` as the optimizer. As in the previous lesson, include the accuracy as a metric."
   ]
  },
  {
   "cell_type": "code",
   "execution_count": 18,
   "metadata": {},
   "outputs": [],
   "source": [
    "# Compile the model\n",
    "model.compile(optimizer='SGD',\n",
    "              loss='categorical_crossentropy',\n",
    "              metrics=['accuracy'])"
   ]
  },
  {
   "cell_type": "markdown",
   "metadata": {},
   "source": [
    "## Training the model\n",
    "\n",
    "In the compiler, you'll be passing the optimizer (SGD = stochastic gradient descent), loss function, and metrics. Train the model for 120 epochs in mini-batches of 256 samples.\n",
    "\n",
    "_Note:_ ⏰ _Your code may take about one to two minutes to run._"
   ]
  },
  {
   "cell_type": "code",
   "execution_count": 19,
   "metadata": {
    "scrolled": true
   },
   "outputs": [
    {
     "name": "stdout",
     "output_type": "stream",
     "text": [
      "Epoch 1/120\n",
      "58500/58500 [==============================] - 4s 63us/step - loss: 1.8800 - acc: 0.2284\n",
      "Epoch 2/120\n",
      "58500/58500 [==============================] - 2s 41us/step - loss: 1.6314 - acc: 0.4261\n",
      "Epoch 3/120\n",
      "58500/58500 [==============================] - 2s 39us/step - loss: 1.2888 - acc: 0.5959\n",
      "Epoch 4/120\n",
      "58500/58500 [==============================] - 2s 38us/step - loss: 1.0319 - acc: 0.6632\n",
      "Epoch 5/120\n",
      "58500/58500 [==============================] - 2s 38us/step - loss: 0.8807 - acc: 0.6988\n",
      "Epoch 6/120\n",
      "58500/58500 [==============================] - 2s 38us/step - loss: 0.7920 - acc: 0.7205\n",
      "Epoch 7/120\n",
      "58500/58500 [==============================] - 2s 38us/step - loss: 0.7357 - acc: 0.7358\n",
      "Epoch 8/120\n",
      "58500/58500 [==============================] - 2s 38us/step - loss: 0.6972 - acc: 0.7469\n",
      "Epoch 9/120\n",
      "58500/58500 [==============================] - 2s 38us/step - loss: 0.6684 - acc: 0.7568\n",
      "Epoch 10/120\n",
      "58500/58500 [==============================] - 2s 38us/step - loss: 0.6458 - acc: 0.7652\n",
      "Epoch 11/120\n",
      "58500/58500 [==============================] - 2s 39us/step - loss: 0.6272 - acc: 0.7717\n",
      "Epoch 12/120\n",
      "58500/58500 [==============================] - 2s 38us/step - loss: 0.6113 - acc: 0.7777\n",
      "Epoch 13/120\n",
      "58500/58500 [==============================] - 2s 39us/step - loss: 0.5971 - acc: 0.7835\n",
      "Epoch 14/120\n",
      "58500/58500 [==============================] - 2s 38us/step - loss: 0.5849 - acc: 0.7879\n",
      "Epoch 15/120\n",
      "58500/58500 [==============================] - 2s 39us/step - loss: 0.5732 - acc: 0.7928\n",
      "Epoch 16/120\n",
      "58500/58500 [==============================] - 2s 38us/step - loss: 0.5634 - acc: 0.7962\n",
      "Epoch 17/120\n",
      "58500/58500 [==============================] - 2s 38us/step - loss: 0.5538 - acc: 0.8002: 0s - loss: 0.5575 - acc:\n",
      "Epoch 18/120\n",
      "58500/58500 [==============================] - 2s 39us/step - loss: 0.5451 - acc: 0.8033\n",
      "Epoch 19/120\n",
      "58500/58500 [==============================] - 2s 38us/step - loss: 0.5371 - acc: 0.8068\n",
      "Epoch 20/120\n",
      "58500/58500 [==============================] - 2s 39us/step - loss: 0.5294 - acc: 0.8097: 0s - loss: 0.5291 - acc:\n",
      "Epoch 21/120\n",
      "58500/58500 [==============================] - 2s 38us/step - loss: 0.5226 - acc: 0.8132\n",
      "Epoch 22/120\n",
      "58500/58500 [==============================] - 2s 38us/step - loss: 0.5158 - acc: 0.8155\n",
      "Epoch 23/120\n",
      "58500/58500 [==============================] - 2s 39us/step - loss: 0.5097 - acc: 0.8179\n",
      "Epoch 24/120\n",
      "58500/58500 [==============================] - 2s 38us/step - loss: 0.5039 - acc: 0.8199\n",
      "Epoch 25/120\n",
      "58500/58500 [==============================] - 2s 38us/step - loss: 0.4983 - acc: 0.8224\n",
      "Epoch 26/120\n",
      "58500/58500 [==============================] - 2s 38us/step - loss: 0.4932 - acc: 0.8241\n",
      "Epoch 27/120\n",
      "58500/58500 [==============================] - 2s 38us/step - loss: 0.4885 - acc: 0.8255\n",
      "Epoch 28/120\n",
      "58500/58500 [==============================] - 2s 39us/step - loss: 0.4836 - acc: 0.8275\n",
      "Epoch 29/120\n",
      "58500/58500 [==============================] - 2s 39us/step - loss: 0.4792 - acc: 0.8291\n",
      "Epoch 30/120\n",
      "58500/58500 [==============================] - 2s 39us/step - loss: 0.4752 - acc: 0.8302: 0s - loss: 0.4763 - acc: \n",
      "Epoch 31/120\n",
      "58500/58500 [==============================] - 2s 39us/step - loss: 0.4711 - acc: 0.8332\n",
      "Epoch 32/120\n",
      "58500/58500 [==============================] - 2s 38us/step - loss: 0.4672 - acc: 0.8337\n",
      "Epoch 33/120\n",
      "58500/58500 [==============================] - 2s 39us/step - loss: 0.4633 - acc: 0.8361\n",
      "Epoch 34/120\n",
      "58500/58500 [==============================] - 2s 39us/step - loss: 0.4602 - acc: 0.8377\n",
      "Epoch 35/120\n",
      "58500/58500 [==============================] - 2s 39us/step - loss: 0.4567 - acc: 0.8381\n",
      "Epoch 36/120\n",
      "58500/58500 [==============================] - 2s 39us/step - loss: 0.4535 - acc: 0.8397\n",
      "Epoch 37/120\n",
      "58500/58500 [==============================] - 2s 39us/step - loss: 0.4505 - acc: 0.8402\n",
      "Epoch 38/120\n",
      "58500/58500 [==============================] - 2s 39us/step - loss: 0.4475 - acc: 0.8416\n",
      "Epoch 39/120\n",
      "58500/58500 [==============================] - 2s 39us/step - loss: 0.4446 - acc: 0.8426\n",
      "Epoch 40/120\n",
      "58500/58500 [==============================] - 2s 39us/step - loss: 0.4416 - acc: 0.8438\n",
      "Epoch 41/120\n",
      "58500/58500 [==============================] - 2s 38us/step - loss: 0.4392 - acc: 0.8449\n",
      "Epoch 42/120\n",
      "58500/58500 [==============================] - 2s 39us/step - loss: 0.4370 - acc: 0.8451\n",
      "Epoch 43/120\n",
      "58500/58500 [==============================] - 2s 39us/step - loss: 0.4342 - acc: 0.8463\n",
      "Epoch 44/120\n",
      "58500/58500 [==============================] - 2s 39us/step - loss: 0.4318 - acc: 0.8468\n",
      "Epoch 45/120\n",
      "58500/58500 [==============================] - 2s 39us/step - loss: 0.4292 - acc: 0.8482\n",
      "Epoch 46/120\n",
      "58500/58500 [==============================] - 2s 39us/step - loss: 0.4268 - acc: 0.8487\n",
      "Epoch 47/120\n",
      "58500/58500 [==============================] - 2s 39us/step - loss: 0.4248 - acc: 0.8501\n",
      "Epoch 48/120\n",
      "58500/58500 [==============================] - 2s 40us/step - loss: 0.4226 - acc: 0.8504\n",
      "Epoch 49/120\n",
      "58500/58500 [==============================] - 2s 39us/step - loss: 0.4206 - acc: 0.8512\n",
      "Epoch 50/120\n",
      "58500/58500 [==============================] - 2s 39us/step - loss: 0.4187 - acc: 0.8518\n",
      "Epoch 51/120\n",
      "58500/58500 [==============================] - 2s 38us/step - loss: 0.4166 - acc: 0.8529\n",
      "Epoch 52/120\n",
      "58500/58500 [==============================] - 2s 39us/step - loss: 0.4146 - acc: 0.8535\n",
      "Epoch 53/120\n",
      "58500/58500 [==============================] - 2s 39us/step - loss: 0.4129 - acc: 0.8538\n",
      "Epoch 54/120\n",
      "58500/58500 [==============================] - 2s 39us/step - loss: 0.4109 - acc: 0.8544\n",
      "Epoch 55/120\n",
      "58500/58500 [==============================] - 2s 40us/step - loss: 0.4091 - acc: 0.8551\n",
      "Epoch 56/120\n",
      "58500/58500 [==============================] - 3s 44us/step - loss: 0.4071 - acc: 0.8556\n",
      "Epoch 57/120\n",
      "58500/58500 [==============================] - 3s 50us/step - loss: 0.4055 - acc: 0.8567:\n",
      "Epoch 58/120\n",
      "58500/58500 [==============================] - 3s 49us/step - loss: 0.4040 - acc: 0.8573\n",
      "Epoch 59/120\n",
      "58500/58500 [==============================] - 3s 47us/step - loss: 0.4024 - acc: 0.8574\n",
      "Epoch 60/120\n",
      "58500/58500 [==============================] - 3s 46us/step - loss: 0.4008 - acc: 0.8584\n",
      "Epoch 61/120\n",
      "58500/58500 [==============================] - 2s 40us/step - loss: 0.3995 - acc: 0.8582\n",
      "Epoch 62/120\n",
      "58500/58500 [==============================] - 2s 38us/step - loss: 0.3979 - acc: 0.8594\n",
      "Epoch 63/120\n",
      "58500/58500 [==============================] - 2s 39us/step - loss: 0.3961 - acc: 0.8602\n",
      "Epoch 64/120\n",
      "58500/58500 [==============================] - 4s 65us/step - loss: 0.3952 - acc: 0.8602\n",
      "Epoch 65/120\n",
      "58500/58500 [==============================] - 3s 48us/step - loss: 0.3935 - acc: 0.8612\n",
      "Epoch 66/120\n",
      "58500/58500 [==============================] - 3s 43us/step - loss: 0.3919 - acc: 0.8622\n",
      "Epoch 67/120\n",
      "58500/58500 [==============================] - 2s 42us/step - loss: 0.3907 - acc: 0.8621\n",
      "Epoch 68/120\n",
      "58500/58500 [==============================] - 2s 42us/step - loss: 0.3890 - acc: 0.8627\n",
      "Epoch 69/120\n",
      "58500/58500 [==============================] - 3s 43us/step - loss: 0.3879 - acc: 0.8629\n",
      "Epoch 70/120\n",
      "58500/58500 [==============================] - 2s 41us/step - loss: 0.3866 - acc: 0.8632\n",
      "Epoch 71/120\n",
      "58500/58500 [==============================] - 2s 40us/step - loss: 0.3853 - acc: 0.8632\n",
      "Epoch 72/120\n",
      "58500/58500 [==============================] - 2s 41us/step - loss: 0.3839 - acc: 0.8643\n",
      "Epoch 73/120\n",
      "58500/58500 [==============================] - 2s 42us/step - loss: 0.3826 - acc: 0.8652\n",
      "Epoch 74/120\n",
      "58500/58500 [==============================] - 2s 42us/step - loss: 0.3814 - acc: 0.8642\n",
      "Epoch 75/120\n",
      "58500/58500 [==============================] - 2s 42us/step - loss: 0.3803 - acc: 0.8654\n",
      "Epoch 76/120\n",
      "58500/58500 [==============================] - 2s 42us/step - loss: 0.3787 - acc: 0.8664\n",
      "Epoch 77/120\n",
      "58500/58500 [==============================] - 2s 42us/step - loss: 0.3779 - acc: 0.8669\n",
      "Epoch 78/120\n",
      "58500/58500 [==============================] - 2s 42us/step - loss: 0.3766 - acc: 0.8672\n",
      "Epoch 79/120\n",
      "58500/58500 [==============================] - 2s 42us/step - loss: 0.3754 - acc: 0.8671\n",
      "Epoch 80/120\n"
     ]
    },
    {
     "name": "stdout",
     "output_type": "stream",
     "text": [
      "58500/58500 [==============================] - 2s 43us/step - loss: 0.3745 - acc: 0.8676\n",
      "Epoch 81/120\n",
      "58500/58500 [==============================] - 2s 42us/step - loss: 0.3732 - acc: 0.8689\n",
      "Epoch 82/120\n",
      "58500/58500 [==============================] - 2s 42us/step - loss: 0.3720 - acc: 0.8697\n",
      "Epoch 83/120\n",
      "58500/58500 [==============================] - 2s 41us/step - loss: 0.3712 - acc: 0.8693\n",
      "Epoch 84/120\n",
      "58500/58500 [==============================] - 2s 42us/step - loss: 0.3701 - acc: 0.8692\n",
      "Epoch 85/120\n",
      "58500/58500 [==============================] - 2s 42us/step - loss: 0.3683 - acc: 0.8700\n",
      "Epoch 86/120\n",
      "58500/58500 [==============================] - 2s 42us/step - loss: 0.3679 - acc: 0.8705\n",
      "Epoch 87/120\n",
      "58500/58500 [==============================] - 2s 43us/step - loss: 0.3665 - acc: 0.8698\n",
      "Epoch 88/120\n",
      "58500/58500 [==============================] - 2s 42us/step - loss: 0.3658 - acc: 0.8714\n",
      "Epoch 89/120\n",
      "58500/58500 [==============================] - 2s 42us/step - loss: 0.3644 - acc: 0.8718\n",
      "Epoch 90/120\n",
      "58500/58500 [==============================] - 3s 47us/step - loss: 0.3642 - acc: 0.8712\n",
      "Epoch 91/120\n",
      "58500/58500 [==============================] - 3s 46us/step - loss: 0.3624 - acc: 0.8720\n",
      "Epoch 92/120\n",
      "58500/58500 [==============================] - 3s 46us/step - loss: 0.3616 - acc: 0.8719\n",
      "Epoch 93/120\n",
      "58500/58500 [==============================] - 3s 46us/step - loss: 0.3608 - acc: 0.8726: \n",
      "Epoch 94/120\n",
      "58500/58500 [==============================] - 3s 45us/step - loss: 0.3595 - acc: 0.8727\n",
      "Epoch 95/120\n",
      "58500/58500 [==============================] - 3s 44us/step - loss: 0.3585 - acc: 0.8738\n",
      "Epoch 96/120\n",
      "58500/58500 [==============================] - 2s 42us/step - loss: 0.3577 - acc: 0.8739\n",
      "Epoch 97/120\n",
      "58500/58500 [==============================] - 2s 42us/step - loss: 0.3564 - acc: 0.8741\n",
      "Epoch 98/120\n",
      "58500/58500 [==============================] - 3s 43us/step - loss: 0.3557 - acc: 0.8742\n",
      "Epoch 99/120\n",
      "58500/58500 [==============================] - 3s 43us/step - loss: 0.3545 - acc: 0.8755\n",
      "Epoch 100/120\n",
      "58500/58500 [==============================] - 3s 43us/step - loss: 0.3535 - acc: 0.8752\n",
      "Epoch 101/120\n",
      "58500/58500 [==============================] - 3s 45us/step - loss: 0.3525 - acc: 0.8752\n",
      "Epoch 102/120\n",
      "58500/58500 [==============================] - 2s 41us/step - loss: 0.3512 - acc: 0.8771\n",
      "Epoch 103/120\n",
      "58500/58500 [==============================] - 2s 41us/step - loss: 0.3508 - acc: 0.8759\n",
      "Epoch 104/120\n",
      "58500/58500 [==============================] - 2s 41us/step - loss: 0.3494 - acc: 0.8772\n",
      "Epoch 105/120\n",
      "58500/58500 [==============================] - 2s 43us/step - loss: 0.3488 - acc: 0.8766\n",
      "Epoch 106/120\n",
      "58500/58500 [==============================] - 2s 41us/step - loss: 0.3476 - acc: 0.8773\n",
      "Epoch 107/120\n",
      "58500/58500 [==============================] - 2s 41us/step - loss: 0.3466 - acc: 0.8777\n",
      "Epoch 108/120\n",
      "58500/58500 [==============================] - 2s 42us/step - loss: 0.3459 - acc: 0.8787\n",
      "Epoch 109/120\n",
      "58500/58500 [==============================] - 2s 42us/step - loss: 0.3448 - acc: 0.8779\n",
      "Epoch 110/120\n",
      "58500/58500 [==============================] - 2s 42us/step - loss: 0.3440 - acc: 0.8788\n",
      "Epoch 111/120\n",
      "58500/58500 [==============================] - 2s 42us/step - loss: 0.3431 - acc: 0.8788\n",
      "Epoch 112/120\n",
      "58500/58500 [==============================] - 2s 41us/step - loss: 0.3420 - acc: 0.8798\n",
      "Epoch 113/120\n",
      "58500/58500 [==============================] - 2s 41us/step - loss: 0.3411 - acc: 0.8801\n",
      "Epoch 114/120\n",
      "58500/58500 [==============================] - 2s 41us/step - loss: 0.3402 - acc: 0.8803\n",
      "Epoch 115/120\n",
      "58500/58500 [==============================] - 2s 41us/step - loss: 0.3393 - acc: 0.8804\n",
      "Epoch 116/120\n",
      "58500/58500 [==============================] - 2s 42us/step - loss: 0.3382 - acc: 0.8803\n",
      "Epoch 117/120\n",
      "58500/58500 [==============================] - 2s 41us/step - loss: 0.3374 - acc: 0.8815\n",
      "Epoch 118/120\n",
      "58500/58500 [==============================] - 2s 41us/step - loss: 0.3365 - acc: 0.8819\n",
      "Epoch 119/120\n",
      "58500/58500 [==============================] - 3s 45us/step - loss: 0.3353 - acc: 0.8820\n",
      "Epoch 120/120\n",
      "58500/58500 [==============================] - 2s 41us/step - loss: 0.3348 - acc: 0.8815\n"
     ]
    }
   ],
   "source": [
    "# Train the model \n",
    "history = model.fit(train,\n",
    "                    label_train,\n",
    "                    epochs=120,\n",
    "                    batch_size=256)"
   ]
  },
  {
   "cell_type": "markdown",
   "metadata": {},
   "source": [
    "Recall that the dictionary `history` has two entries: the loss and the accuracy achieved using the training set."
   ]
  },
  {
   "cell_type": "code",
   "execution_count": 20,
   "metadata": {},
   "outputs": [
    {
     "data": {
      "text/plain": [
       "dict_keys(['loss', 'acc'])"
      ]
     },
     "execution_count": 20,
     "metadata": {},
     "output_type": "execute_result"
    }
   ],
   "source": [
    "history_dict = history.history\n",
    "history_dict.keys()"
   ]
  },
  {
   "cell_type": "markdown",
   "metadata": {},
   "source": [
    "## Plot the results\n",
    "\n",
    "As you might expect, we'll use our `matplotlib` for graphing. Use the data stored in the `history_dict` above to plot the loss vs epochs and the accuracy vs epochs. "
   ]
  },
  {
   "cell_type": "code",
   "execution_count": 21,
   "metadata": {},
   "outputs": [
    {
     "data": {
      "image/png": "[encoded data removed]",
      "text/plain": [
       "<Figure size 432x288 with 1 Axes>"
      ]
     },
     "metadata": {
      "needs_background": "light"
     },
     "output_type": "display_data"
    }
   ],
   "source": [
    "# Plot the loss vs the number of epoch\n",
    "history_dict = history.history\n",
    "loss_values = history_dict['loss']\n",
    "\n",
    "epochs = range(1, len(loss_values) + 1)\n",
    "plt.plot(epochs, loss_values, 'g', label='Training loss')\n",
    "\n",
    "plt.title('Training loss')\n",
    "plt.xlabel('Epochs')\n",
    "plt.ylabel('Loss')\n",
    "plt.legend()\n",
    "plt.show()"
   ]
  },
  {
   "cell_type": "code",
   "execution_count": 22,
   "metadata": {},
   "outputs": [
    {
     "data": {
      "image/png": "[encoded data removed]",
      "text/plain": [
       "<Figure size 432x288 with 1 Axes>"
      ]
     },
     "metadata": {
      "needs_background": "light"
     },
     "output_type": "display_data"
    }
   ],
   "source": [
    "# Plot the training accuracy vs the number of epochs\n",
    "acc_values = history_dict['acc'] \n",
    "\n",
    "plt.plot(epochs, acc_values, 'r', label='Training acc')\n",
    "plt.title('Training accuracy')\n",
    "plt.xlabel('Epochs')\n",
    "plt.ylabel('Loss')\n",
    "plt.legend()\n",
    "plt.show()"
   ]
  },
  {
   "cell_type": "markdown",
   "metadata": {},
   "source": [
    "It seems like we could just keep on going and accuracy would go up!"
   ]
  },
  {
   "cell_type": "markdown",
   "metadata": {},
   "source": [
    "## Make predictions\n",
    "\n",
    "Finally, it's time to make predictions. Use the relevant method discussed in the previous lesson to output (probability) predictions for the test set."
   ]
  },
  {
   "cell_type": "code",
   "execution_count": 23,
   "metadata": {},
   "outputs": [],
   "source": [
    "# Output (probability) predictions for the test set \n",
    "y_hat_test = model.predict(test) "
   ]
  },
  {
   "cell_type": "markdown",
   "metadata": {},
   "source": [
    "## Evaluate Performance\n",
    "\n",
    "Finally, print the loss and accuracy for both the train and test sets of the final trained model."
   ]
  },
  {
   "cell_type": "code",
   "execution_count": 24,
   "metadata": {},
   "outputs": [
    {
     "name": "stdout",
     "output_type": "stream",
     "text": [
      "58500/58500 [==============================] - 7s 124us/step\n"
     ]
    },
    {
     "data": {
      "text/plain": [
       "[0.33111465767535386, 0.8827521367521367]"
      ]
     },
     "execution_count": 24,
     "metadata": {},
     "output_type": "execute_result"
    }
   ],
   "source": [
    "# Print the loss and accuracy for the training set \n",
    "results_train = model.evaluate(train, label_train)\n",
    "results_train"
   ]
  },
  {
   "cell_type": "code",
   "execution_count": 25,
   "metadata": {},
   "outputs": [
    {
     "name": "stdout",
     "output_type": "stream",
     "text": [
      "1500/1500 [==============================] - 0s 67us/step\n"
     ]
    },
    {
     "data": {
      "text/plain": [
       "[0.24950993726650875, 0.9313333334922791]"
      ]
     },
     "execution_count": 25,
     "metadata": {},
     "output_type": "execute_result"
    }
   ],
   "source": [
    "# Print the loss and accuracy for the test set \n",
    "results_test = model.evaluate(test, label_test)\n",
    "results_test"
   ]
  },
  {
   "cell_type": "markdown",
   "metadata": {},
   "source": [
    "We can see that the training set results are really good, but the test set results lag behind. We'll talk a little more about this in the next lesson, and discuss how we can get better test set results as well!\n",
    "\n",
    "\n",
    "## Additional Resources \n",
    "\n",
    "- https://github.com/susanli2016/Machine-Learning-with-Python/blob/master/Consumer_complaints.ipynb \n",
    "- https://catalog.data.gov/dataset/consumer-complaint-database \n",
    "\n",
    "## Summary \n",
    "\n",
    "Congratulations! In this lab, you built a neural network thanks to the tools provided by Keras! In upcoming lessons and labs we'll continue to investigate further ideas regarding how to tune and refine these models for increased accuracy and performance."
   ]
  }
 ],
 "metadata": {
  "kernelspec": {
   "display_name": "Python 3",
   "language": "python",
   "name": "python3"
  },
  "language_info": {
   "codemirror_mode": {
    "name": "ipython",
    "version": 3
   },
   "file_extension": ".py",
   "mimetype": "text/x-python",
   "name": "python",
   "nbconvert_exporter": "python",
   "pygments_lexer": "ipython3",
   "version": "3.6.6"
  },
  "toc": {
   "base_numbering": 1,
   "nav_menu": {},
   "number_sections": true,
   "sideBar": true,
   "skip_h1_title": false,
   "title_cell": "Table of Contents",
   "title_sidebar": "Contents",
   "toc_cell": false,
   "toc_position": {},
   "toc_section_display": true,
   "toc_window_display": false
  },
  "varInspector": {
   "cols": {
    "lenName": 16,
    "lenType": 16,
    "lenVar": 40
   },
   "kernels_config": {
    "python": {
     "delete_cmd_postfix": "",
     "delete_cmd_prefix": "del ",
     "library": "var_list.py",
     "varRefreshCmd": "print(var_dic_list())"
    },
    "r": {
     "delete_cmd_postfix": ") ",
     "delete_cmd_prefix": "rm(",
     "library": "var_list.r",
     "varRefreshCmd": "cat(var_dic_list()) "
    }
   },
   "types_to_exclude": [
    "module",
    "function",
    "builtin_function_or_method",
    "instance",
    "_Feature"
   ],
   "window_display": false
  }
 },
 "nbformat": 4,
 "nbformat_minor": 2
}
